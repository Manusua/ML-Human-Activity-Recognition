{
 "cells": [
  {
   "cell_type": "code",
   "execution_count": 1,
   "metadata": {},
   "outputs": [],
   "source": [
    "#import tensorflow\n",
    "import pandas as pd\n",
    "import os\n",
    "import matplotlib.pyplot as plt\n",
    "import numpy as np\n",
    "path_data = \"./data/sensors-activity-recognition-dataset-shoaib/DataSet/\""
   ]
  },
  {
   "cell_type": "code",
   "execution_count": 2,
   "metadata": {},
   "outputs": [
    {
     "name": "stdout",
     "output_type": "stream",
     "text": [
      "Gathering data from ./data/sensors-activity-recognition-dataset-shoaib/DataSet/Participant_10.csv\n",
      "Gathering data from ./data/sensors-activity-recognition-dataset-shoaib/DataSet/Participant_6.csv\n",
      "Gathering data from ./data/sensors-activity-recognition-dataset-shoaib/DataSet/Participant_1.csv\n",
      "Gathering data from ./data/sensors-activity-recognition-dataset-shoaib/DataSet/Participant_9.csv\n",
      "Gathering data from ./data/sensors-activity-recognition-dataset-shoaib/DataSet/Participant_8.csv\n",
      "Gathering data from ./data/sensors-activity-recognition-dataset-shoaib/DataSet/Participant_7.csv\n",
      "Gathering data from ./data/sensors-activity-recognition-dataset-shoaib/DataSet/Participant_2.csv\n",
      "Gathering data from ./data/sensors-activity-recognition-dataset-shoaib/DataSet/Participant_3.csv\n",
      "Gathering data from ./data/sensors-activity-recognition-dataset-shoaib/DataSet/Participant_5.csv\n",
      "Gathering data from ./data/sensors-activity-recognition-dataset-shoaib/DataSet/Participant_4.csv\n"
     ]
    }
   ],
   "source": [
    "#Create a common dataframe\n",
    "df = pd.DataFrame()\n",
    "#Count number of files in directory\n",
    "for _, _, files in os.walk(path_data):\n",
    "    for file in files:\n",
    "        if file.endswith('.csv'):\n",
    "            print(\"Gathering data from \" + path_data + file)\n",
    "            df_tmp = pd.read_csv(path_data + file, header=1)\n",
    "            df = pd.concat([df, df_tmp])"
   ]
  },
  {
   "cell_type": "code",
   "execution_count": 12,
   "metadata": {},
   "outputs": [
    {
     "name": "stdout",
     "output_type": "stream",
     "text": [
      "Set of activities {'standing', 'biking', 'sitting', 'upstairs', 'walking', 'jogging', 'downstairs'}\n"
     ]
    }
   ],
   "source": [
    "# We separate the data in different activities\n",
    "\n",
    "matr = pd.DataFrame(df).to_numpy()\n",
    "activities = set(df[df.columns[-1]])\n",
    "print(\"Set of activities \" + str(activities))\n",
    "dict_act = {}\n",
    "for act in activities:\n",
    "    dict_act[act] = []\n",
    "    for i in range(len(df.columns)):\n",
    "        # We are only interested in left pocket and right pocket data\n",
    "        if (i > 0 and i < 11) or (i > 14 and i < 25):\n",
    "            dict_act[act].append([])\n",
    "        \n",
    "for row in matr:\n",
    "    j = 0\n",
    "    for i, elem in enumerate(row):\n",
    "        # We are only interested in left pocket and right pocket data\n",
    "        if (i > 0 and i < 13) or (i > 14 and i < 27):\n",
    "            dict_act[row[-1]][j].append(elem)\n",
    "            j = j + 1\n",
    "\n"
   ]
  },
  {
   "cell_type": "code",
   "execution_count": 15,
   "metadata": {},
   "outputs": [
    {
     "name": "stdout",
     "output_type": "stream",
     "text": [
      "dict_keys(['standing', 'biking', 'sitting', 'upstairs', 'walking', 'jogging', 'downstairs'])\n",
      "20\n",
      "90000\n",
      "90000\n",
      "90000\n",
      "90000\n"
     ]
    }
   ],
   "source": [
    "print(dict_act.keys())\n",
    "print(len(dict_act[\"standing\"]))\n",
    "print(len(dict_act[\"standing\"][0]))\n",
    "print(len(dict_act[\"standing\"][1]))\n",
    "print(len(dict_act[\"standing\"][2]))\n",
    "print(len(dict_act[\"standing\"][3]))"
   ]
  },
  {
   "cell_type": "code",
   "execution_count": null,
   "metadata": {},
   "outputs": [],
   "source": [
    "# We plot the different plots for each activity\n",
    "\"\"\"for key in dict_act.keys():\n",
    "    print(\"Ploting the activity: \" + key)\n",
    "    for i in range(len(dict_act[key])):\n",
    "        if len(dict_act[key][i]) > 0:\n",
    "            x_axis = np.arange(1, len(dict_act[key][i]) + 1, 1)\n",
    "            y_axis = dict_act[key][i]\n",
    "            plt.title(key + '-' + df.columns[i])\n",
    "            plt.plot(x_axis[0:1000], y_axis[0:1000], linewidth = 0.2)\n",
    "            plt.show()\"\"\""
   ]
  },
  {
   "cell_type": "code",
   "execution_count": null,
   "metadata": {},
   "outputs": [],
   "source": [
    "# We are first trying"
   ]
  }
 ],
 "metadata": {
  "kernelspec": {
   "display_name": "Python 3",
   "language": "python",
   "name": "python3"
  },
  "language_info": {
   "codemirror_mode": {
    "name": "ipython",
    "version": 3
   },
   "file_extension": ".py",
   "mimetype": "text/x-python",
   "name": "python",
   "nbconvert_exporter": "python",
   "pygments_lexer": "ipython3",
   "version": "3.10.6"
  },
  "orig_nbformat": 4
 },
 "nbformat": 4,
 "nbformat_minor": 2
}
