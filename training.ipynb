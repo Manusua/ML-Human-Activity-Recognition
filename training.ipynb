{
 "cells": [
  {
   "cell_type": "code",
   "execution_count": 2,
   "metadata": {},
   "outputs": [],
   "source": [
    "#import tensorflow\n",
    "import pandas as pd\n",
    "import os\n",
    "import matplotlib.pyplot as plt\n",
    "import numpy as np\n",
    "import time\n",
    "path_data = \"./data/sensors-activity-recognition-dataset-shoaib/DataSet/\""
   ]
  },
  {
   "cell_type": "code",
   "execution_count": 3,
   "metadata": {},
   "outputs": [
    {
     "name": "stdout",
     "output_type": "stream",
     "text": [
      "Gathering data from ./data/sensors-activity-recognition-dataset-shoaib/DataSet/Participant_10.csv\n",
      "Gathering data from ./data/sensors-activity-recognition-dataset-shoaib/DataSet/Participant_6.csv\n",
      "Gathering data from ./data/sensors-activity-recognition-dataset-shoaib/DataSet/Participant_1.csv\n",
      "Gathering data from ./data/sensors-activity-recognition-dataset-shoaib/DataSet/Participant_9.csv\n",
      "Gathering data from ./data/sensors-activity-recognition-dataset-shoaib/DataSet/Participant_8.csv\n",
      "Gathering data from ./data/sensors-activity-recognition-dataset-shoaib/DataSet/Participant_7.csv\n",
      "Gathering data from ./data/sensors-activity-recognition-dataset-shoaib/DataSet/Participant_2.csv\n",
      "Gathering data from ./data/sensors-activity-recognition-dataset-shoaib/DataSet/Participant_3.csv\n",
      "Gathering data from ./data/sensors-activity-recognition-dataset-shoaib/DataSet/Participant_5.csv\n",
      "Gathering data from ./data/sensors-activity-recognition-dataset-shoaib/DataSet/Participant_4.csv\n"
     ]
    }
   ],
   "source": [
    "#Create a common dataframe\n",
    "df = pd.DataFrame()\n",
    "#Count number of files in directory\n",
    "for _, _, files in os.walk(path_data):\n",
    "    for file in files:\n",
    "        if file.endswith('.csv'):\n",
    "            print(\"Gathering data from \" + path_data + file)\n",
    "            df_tmp = pd.read_csv(path_data + file, header=1)\n",
    "            df = pd.concat([df, df_tmp])"
   ]
  },
  {
   "cell_type": "code",
   "execution_count": 13,
   "metadata": {},
   "outputs": [
    {
     "name": "stdout",
     "output_type": "stream",
     "text": [
      "Index(['time_stamp', 'Ax', 'Ay', 'Az', 'Lx', 'Ly', 'Lz', 'Gx', 'Gy', 'Gz',\n",
      "       'Mx', 'My', 'Mz', 'Unnamed: 13', 'time_stamp.1', 'Ax.1', 'Ay.1', 'Az.1',\n",
      "       'Lx.1', 'Ly.1', 'Lz.1', 'Gx.1', 'Gy.1', 'Gz.1', 'Mx.1', 'My.1', 'Mz.1',\n",
      "       'Unnamed: 27', 'time_stamp.2', 'Ax.2', 'Ay.2', 'Az.2', 'Lx.2', 'Ly.2',\n",
      "       'Lz.2', 'Gx.2', 'Gy.2', 'Gz.2', 'Mx.2', 'My.2', 'Mz.2', 'Unnamed: 41',\n",
      "       'time_stamp.3', 'Ax.3', 'Ay.3', 'Az.3', 'Lx.3', 'Ly.3', 'Lz.3', 'Gx.3',\n",
      "       'Gy.3', 'Gz.3', 'Mx.3', 'My.3', 'Mz.3', 'Unnamed: 55', 'time_stamp.4',\n",
      "       'Ax.4', 'Ay.4', 'Az.4', 'Lx.4', 'Ly.4', 'Lz.4', 'Gx.4', 'Gy.4', 'Gz.4',\n",
      "       'Mx.4', 'My.4', 'Mz.4', 'Unnamed: 69'],\n",
      "      dtype='object')\n",
      "            Ax       Ay       Az       Lx        Ly       Lz       Gx  \\\n",
      "0      3.54130 -12.6530  0.40861  0.51892 -3.351000 -0.30071 -2.17160   \n",
      "1      2.23370 -12.7210  0.12258 -0.66115 -3.374300 -0.52678 -2.33050   \n",
      "2      0.29965 -10.3110  0.91256 -2.19960 -0.849440  0.27190 -2.32710   \n",
      "3      0.83084  -8.3629  1.40290 -1.56340  1.120500  0.69343 -2.23760   \n",
      "4      1.18500  -7.2733  1.60720 -1.15630  2.216200  0.80829 -2.22970   \n",
      "...        ...      ...      ...      ...       ...      ...      ...   \n",
      "62995  6.08830  -2.9692 -4.44020  2.45820  5.177000 -0.36193  0.54917   \n",
      "62996  4.16780  -4.2495 -0.96704  0.29256  3.858700  2.95850  0.74403   \n",
      "62997  3.80010  -8.4174  3.66390 -0.18260 -0.029887  6.81960  0.85399   \n",
      "62998  5.35280 -18.6600  7.38220  1.68770 -9.594100  8.12330 -0.60537   \n",
      "62999  2.05670 -17.9920 -2.69680 -1.18180 -8.776800 -1.82900 -2.08640   \n",
      "\n",
      "            Gy       Gz     Mx     My     Mz  \n",
      "0      0.20861  1.07940   0.54  45.30  -5.04  \n",
      "1      1.74130  1.05160   0.90  45.30  -3.90  \n",
      "2      1.35120  0.93096   1.86  45.42  -1.08  \n",
      "3      1.29930  0.75778   2.40  45.42   0.30  \n",
      "4      1.38670  0.49480   2.88  45.24   1.92  \n",
      "...        ...      ...    ...    ...    ...  \n",
      "62995  0.39859  0.73212 -28.50  19.68  29.34  \n",
      "62996 -1.69910  0.22297 -27.96  20.82  28.86  \n",
      "62997 -2.26140 -0.13256 -27.48  22.20  28.38  \n",
      "62998  1.62670 -0.80146 -26.40  24.18  27.30  \n",
      "62999  2.37260 -0.55131 -26.04  25.08  26.88  \n",
      "\n",
      "[630000 rows x 12 columns]\n",
      "aaa\n",
      "       time_stamp.1     Ax.1     Ay.1      Az.1       Lx.1    Ly.1      Lz.1  \\\n",
      "0      1.390000e+12 -0.24517  -4.5220   6.82380  -0.648070  5.1612   8.32170   \n",
      "1      1.390000e+12 -3.51400  -4.9987   2.32910  -3.229000  4.7817   2.98730   \n",
      "2      1.390000e+12 -2.16560  -6.8783  -0.83084  -1.663300  2.8906  -0.13264   \n",
      "3      1.390000e+12  3.24160 -13.0760   1.63440   3.330800 -3.2786   2.06250   \n",
      "4      1.390000e+12  2.98290 -13.1710   2.08390   2.409900 -3.3819   1.94980   \n",
      "...             ...      ...      ...       ...        ...     ...       ...   \n",
      "62995  1.390000e+12  5.23020 -18.3870 -15.20000   9.331000 -9.8408 -12.68900   \n",
      "62996  1.390000e+12  9.53420 -16.1810  -4.53560  10.979000 -7.1533  -0.98788   \n",
      "62997  1.390000e+12 -1.79790 -15.5540  -7.57290  -0.092166 -6.5876  -3.98740   \n",
      "62998  1.390000e+12  0.53119  -6.6059  -1.11690   2.097900  2.4267   2.36570   \n",
      "62999  1.390000e+12 -1.58000  -2.2746  -1.98860   0.086488  1.6014   2.45910   \n",
      "\n",
      "          Gx.1     Gy.1      Gz.1   Mx.1   My.1   Mz.1  \n",
      "0      0.95417  2.29530 -0.542750   8.52  43.56  19.20  \n",
      "1      1.86650  1.88970 -0.257170   8.10  43.44  19.56  \n",
      "2      1.84270  1.35060  0.356750   7.92  43.50  19.56  \n",
      "3      1.51310  1.08000  0.823140   7.62  43.44  19.56  \n",
      "4      1.49420  0.90622  0.949900   7.20  43.56  19.38  \n",
      "...        ...      ...       ...    ...    ...    ...  \n",
      "62995 -0.47983 -3.17410  0.238540 -27.42  27.00  30.00  \n",
      "62996  0.25748  4.37260 -0.647520 -26.88  26.94  29.40  \n",
      "62997 -1.24830 -0.78618 -0.215940 -25.80  26.94  28.38  \n",
      "62998 -1.99480 -2.94560 -0.094379 -25.38  26.94  28.32  \n",
      "62999 -1.58550  0.10751  1.066000 -23.82  26.64  28.38  \n",
      "\n",
      "[630000 rows x 13 columns]\n"
     ]
    },
    {
     "ename": "NameError",
     "evalue": "name 'sleep' is not defined",
     "output_type": "error",
     "traceback": [
      "\u001b[0;31m---------------------------------------------------------------------------\u001b[0m",
      "\u001b[0;31mNameError\u001b[0m                                 Traceback (most recent call last)",
      "\u001b[1;32m/home/manuel/Documentos/CSIC/Segunda etapa/HAR APP/Pruebas TF/ML HAR/training.ipynb Cell 3\u001b[0m in \u001b[0;36m2\n\u001b[1;32m     <a href='vscode-notebook-cell:/home/manuel/Documentos/CSIC/Segunda%20etapa/HAR%20APP/Pruebas%20TF/ML%20HAR/training.ipynb#W2sZmlsZQ%3D%3D?line=23'>24</a>\u001b[0m \u001b[39mprint\u001b[39m(\u001b[39m\"\u001b[39m\u001b[39maaa\u001b[39m\u001b[39m\"\u001b[39m)\n\u001b[1;32m     <a href='vscode-notebook-cell:/home/manuel/Documentos/CSIC/Segunda%20etapa/HAR%20APP/Pruebas%20TF/ML%20HAR/training.ipynb#W2sZmlsZQ%3D%3D?line=24'>25</a>\u001b[0m \u001b[39mprint\u001b[39m(df\u001b[39m.\u001b[39miloc[:,\u001b[39m14\u001b[39m:\u001b[39m27\u001b[39m])\n\u001b[0;32m---> <a href='vscode-notebook-cell:/home/manuel/Documentos/CSIC/Segunda%20etapa/HAR%20APP/Pruebas%20TF/ML%20HAR/training.ipynb#W2sZmlsZQ%3D%3D?line=25'>26</a>\u001b[0m sleep(\u001b[39m5\u001b[39m)\n\u001b[1;32m     <a href='vscode-notebook-cell:/home/manuel/Documentos/CSIC/Segunda%20etapa/HAR%20APP/Pruebas%20TF/ML%20HAR/training.ipynb#W2sZmlsZQ%3D%3D?line=26'>27</a>\u001b[0m df_data \u001b[39m=\u001b[39m pd\u001b[39m.\u001b[39mconcat(df\u001b[39m.\u001b[39miloc[:,\u001b[39m1\u001b[39m:\u001b[39m13\u001b[39m], df\u001b[39m.\u001b[39miloc[:,\u001b[39m14\u001b[39m:\u001b[39m27\u001b[39m])\n\u001b[1;32m     <a href='vscode-notebook-cell:/home/manuel/Documentos/CSIC/Segunda%20etapa/HAR%20APP/Pruebas%20TF/ML%20HAR/training.ipynb#W2sZmlsZQ%3D%3D?line=27'>28</a>\u001b[0m \u001b[39mprint\u001b[39m(df_data)\n",
      "\u001b[0;31mNameError\u001b[0m: name 'sleep' is not defined"
     ]
    }
   ],
   "source": [
    "# We separate the data in different activities\n",
    "\n",
    "\"\"\"matr = pd.DataFrame(df).to_numpy()\n",
    "activities = set(df[df.columns[-1]])\n",
    "print(\"Set of activities \" + str(activities))\n",
    "dict_act = {}\n",
    "for act in activities:\n",
    "    dict_act[act] = []\n",
    "    for i in range(len(df.columns)):\n",
    "        # We are only interested in left pocket and right pocket data\n",
    "        if (i > 0 and i < 11) or (i > 14 and i < 25):\n",
    "            dict_act[act].append([])\n",
    "        \n",
    "for row in matr:\n",
    "    j = 0\n",
    "    for i, elem in enumerate(row):\n",
    "        # We are only interested in left pocket and right pocket data\n",
    "        if (i > 0 and i < 13) or (i > 14 and i < 27):\n",
    "            dict_act[row[-1]][j].append(elem)\n",
    "            j = j + 1\"\"\"\n",
    "\n",
    "print(df.columns)\n",
    "print(df.iloc[:,1:13])\n",
    "print(\"aaa\")\n",
    "print(df.iloc[:,14:27])\n",
    "time.sleep(5)\n",
    "df_data = pd.concat(df.iloc[:,1:13], df.iloc[:,14:27])\n",
    "print(df_data)\n"
   ]
  },
  {
   "cell_type": "code",
   "execution_count": 15,
   "metadata": {},
   "outputs": [
    {
     "name": "stdout",
     "output_type": "stream",
     "text": [
      "dict_keys(['standing', 'biking', 'sitting', 'upstairs', 'walking', 'jogging', 'downstairs'])\n",
      "20\n",
      "90000\n",
      "90000\n",
      "90000\n",
      "90000\n"
     ]
    }
   ],
   "source": [
    "print(dict_act.keys())\n",
    "print(len(dict_act[\"standing\"]))\n",
    "print(len(dict_act[\"standing\"][0]))\n",
    "print(len(dict_act[\"standing\"][1]))\n",
    "print(len(dict_act[\"standing\"][2]))\n",
    "print(len(dict_act[\"standing\"][3]))"
   ]
  },
  {
   "cell_type": "code",
   "execution_count": null,
   "metadata": {},
   "outputs": [],
   "source": [
    "# We plot the different plots for each activity\n",
    "\"\"\"for key in dict_act.keys():\n",
    "    print(\"Ploting the activity: \" + key)\n",
    "    for i in range(len(dict_act[key])):\n",
    "        if len(dict_act[key][i]) > 0:\n",
    "            x_axis = np.arange(1, len(dict_act[key][i]) + 1, 1)\n",
    "            y_axis = dict_act[key][i]\n",
    "            plt.title(key + '-' + df.columns[i])\n",
    "            plt.plot(x_axis[0:1000], y_axis[0:1000], linewidth = 0.2)\n",
    "            plt.show()\"\"\""
   ]
  },
  {
   "cell_type": "code",
   "execution_count": 17,
   "metadata": {},
   "outputs": [
    {
     "name": "stdout",
     "output_type": "stream",
     "text": [
      "[5.47722558 8.06225775 8.60232527]\n"
     ]
    }
   ],
   "source": [
    "# We are first trying the model with the value of the module of the vectors\n",
    "left_pocket = {\n",
    "    'Ax': [1,2,3],\n",
    "    'Ay': [2,5,4],\n",
    "    'Az': [5,6,7]\n",
    "}\n",
    "print(np.sqrt(np.square(left_pocket['Ax']) + np.square(left_pocket['Ay']) + np.square(left_pocket['Az'])))"
   ]
  },
  {
   "cell_type": "code",
   "execution_count": null,
   "metadata": {},
   "outputs": [],
   "source": []
  }
 ],
 "metadata": {
  "kernelspec": {
   "display_name": "Python 3",
   "language": "python",
   "name": "python3"
  },
  "language_info": {
   "codemirror_mode": {
    "name": "ipython",
    "version": 3
   },
   "file_extension": ".py",
   "mimetype": "text/x-python",
   "name": "python",
   "nbconvert_exporter": "python",
   "pygments_lexer": "ipython3",
   "version": "3.10.6"
  },
  "orig_nbformat": 4
 },
 "nbformat": 4,
 "nbformat_minor": 2
}
